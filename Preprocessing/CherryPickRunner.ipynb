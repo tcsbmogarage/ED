{
 "cells": [
  {
   "cell_type": "code",
   "execution_count": 1,
   "metadata": {},
   "outputs": [],
   "source": [
    "import os\n",
    "import re\n",
    "import shutil\n",
    "\n",
    "import pandas as pd\n",
    "from tqdm import tqdm"
   ]
  },
  {
   "cell_type": "code",
   "execution_count": 2,
   "metadata": {},
   "outputs": [],
   "source": [
    "#imp\n",
    "SAMPLE_NAME= \"TEmotionDetection_HNAPS-Conv_10-SGD_0.001-relu_0.5-2-1629538337.model\"\n",
    "DEST_DIR_NAME = \"fer2013-skimmed-3903ted\"\n",
    "ROOT_DIR = \"/Users/garage/Cohort/\"\n",
    "USECASE_NAME = \"TF_Usecase\"\n",
    "USECASE_DIR = ROOT_DIR + USECASE_NAME + \"/\"\n",
    "MODELS_DIR = os.path.join(ROOT_DIR, \"TrainedModels\", USECASE_NAME, SAMPLE_NAME)\n",
    "\n",
    "DATA_DIR = ROOT_DIR + \"Data/\"\n",
    "SRC_PATH = os.path.join(DATA_DIR, \"fer2013-skimmed\")\n",
    "DEST_PATH = os.path.join(DATA_DIR, DEST_DIR_NAME)\n",
    "SRC_TRAIN_DIR = SRC_PATH + \"/train/\"\n",
    "SRC_TEST_DIR = SRC_PATH + \"/test/\"\n",
    "\n",
    "PREFIX = \"\"\n",
    "SUPPORTED_IMAGES = (\"jpg\", \"png\", \"jpeg\")\n",
    "\n",
    "IMAGE_SIZE = 48\n",
    "CHANNEL = 1"
   ]
  },
  {
   "cell_type": "markdown",
   "metadata": {},
   "source": [
    "### Insight"
   ]
  },
  {
   "cell_type": "code",
   "execution_count": 3,
   "metadata": {},
   "outputs": [],
   "source": [
    "def count_exp(path, label):\n",
    "    \n",
    "    dict = {}\n",
    "    e_only_folder = re.compile(\"[∧a-zA-Z\\-]\")\n",
    "\n",
    "    for expression in os.listdir(path):\n",
    "        \n",
    "        #omit other folders\n",
    "        if not re.match(e_only_folder, expression):\n",
    "            continue\n",
    "        \n",
    "        dir = path + expression\n",
    "        dict[expression] = len(os.listdir(dir))\n",
    "        \n",
    "    df = pd.DataFrame(dict, index=[label])\n",
    "    \n",
    "    return df"
   ]
  },
  {
   "cell_type": "code",
   "execution_count": 4,
   "metadata": {},
   "outputs": [
    {
     "name": "stdout",
     "output_type": "stream",
     "text": [
      "       perplex  happy   sad  neutral  angry\n",
      "train     3173   6919  4136     4220   3509\n",
      "      perplex  happy   sad  neutral  angry\n",
      "test      902   1669  1024     1047    816\n"
     ]
    }
   ],
   "source": [
    "train_count = count_exp(SRC_TRAIN_DIR, 'train')\n",
    "test_count = count_exp(SRC_TEST_DIR, 'test')\n",
    "print(train_count)\n",
    "print(test_count)"
   ]
  },
  {
   "cell_type": "markdown",
   "metadata": {},
   "source": [
    "### Train"
   ]
  },
  {
   "cell_type": "code",
   "execution_count": 5,
   "metadata": {},
   "outputs": [
    {
     "data": {
      "text/html": [
       "<div>\n",
       "<style scoped>\n",
       "    .dataframe tbody tr th:only-of-type {\n",
       "        vertical-align: middle;\n",
       "    }\n",
       "\n",
       "    .dataframe tbody tr th {\n",
       "        vertical-align: top;\n",
       "    }\n",
       "\n",
       "    .dataframe thead th {\n",
       "        text-align: right;\n",
       "    }\n",
       "</style>\n",
       "<table border=\"1\" class=\"dataframe\">\n",
       "  <thead>\n",
       "    <tr style=\"text-align: right;\">\n",
       "      <th></th>\n",
       "      <th>No</th>\n",
       "      <th>Path</th>\n",
       "      <th>Emotion</th>\n",
       "    </tr>\n",
       "  </thead>\n",
       "  <tbody>\n",
       "    <tr>\n",
       "      <th>0</th>\n",
       "      <td>0</td>\n",
       "      <td>/Users/garage/Cohort/Data/fer2013-skimmed/trai...</td>\n",
       "      <td>happy</td>\n",
       "    </tr>\n",
       "    <tr>\n",
       "      <th>1</th>\n",
       "      <td>1</td>\n",
       "      <td>/Users/garage/Cohort/Data/fer2013-skimmed/trai...</td>\n",
       "      <td>happy</td>\n",
       "    </tr>\n",
       "    <tr>\n",
       "      <th>2</th>\n",
       "      <td>2</td>\n",
       "      <td>/Users/garage/Cohort/Data/fer2013-skimmed/trai...</td>\n",
       "      <td>perplex</td>\n",
       "    </tr>\n",
       "    <tr>\n",
       "      <th>3</th>\n",
       "      <td>3</td>\n",
       "      <td>/Users/garage/Cohort/Data/fer2013-skimmed/trai...</td>\n",
       "      <td>sad</td>\n",
       "    </tr>\n",
       "    <tr>\n",
       "      <th>4</th>\n",
       "      <td>4</td>\n",
       "      <td>/Users/garage/Cohort/Data/fer2013-skimmed/trai...</td>\n",
       "      <td>angry</td>\n",
       "    </tr>\n",
       "  </tbody>\n",
       "</table>\n",
       "</div>"
      ],
      "text/plain": [
       "   No                                               Path  Emotion\n",
       "0   0  /Users/garage/Cohort/Data/fer2013-skimmed/trai...    happy\n",
       "1   1  /Users/garage/Cohort/Data/fer2013-skimmed/trai...    happy\n",
       "2   2  /Users/garage/Cohort/Data/fer2013-skimmed/trai...  perplex\n",
       "3   3  /Users/garage/Cohort/Data/fer2013-skimmed/trai...      sad\n",
       "4   4  /Users/garage/Cohort/Data/fer2013-skimmed/trai...    angry"
      ]
     },
     "execution_count": 5,
     "metadata": {},
     "output_type": "execute_result"
    }
   ],
   "source": [
    "csv_path = os.path.join(MODELS_DIR, \"t.csv\")\n",
    "tdf = pd.read_csv(csv_path)\n",
    "tdf.columns = [\"No\", \"Path\", \"Emotion\"]\n",
    "tdf.head()"
   ]
  },
  {
   "cell_type": "code",
   "execution_count": 6,
   "metadata": {},
   "outputs": [
    {
     "data": {
      "text/plain": [
       "Emotion\n",
       "angry      3171\n",
       "happy      3171\n",
       "neutral    3171\n",
       "perplex    3171\n",
       "sad        3171\n",
       "dtype: int64"
      ]
     },
     "execution_count": 6,
     "metadata": {},
     "output_type": "execute_result"
    }
   ],
   "source": [
    "tdf.groupby(\"Emotion\").size()"
   ]
  },
  {
   "cell_type": "code",
   "execution_count": 7,
   "metadata": {},
   "outputs": [],
   "source": [
    "def makePath(path, mode):\n",
    "\n",
    "        try:\n",
    "            original_umask = os.umask(0)\n",
    "            if not os.path.exists(path):\n",
    "                os.makedirs(path, mode=mode)\n",
    "        finally:\n",
    "            os.umask(original_umask)"
   ]
  },
  {
   "cell_type": "code",
   "execution_count": 8,
   "metadata": {},
   "outputs": [],
   "source": [
    "def copyFiles(mode, df):\n",
    "    try:\n",
    "        for index, row in tqdm(df.iterrows()):\n",
    "            base_name = os.path.basename(row[\"Path\"])\n",
    "            emotion_path = os.path.join(DEST_PATH, mode, row[\"Emotion\"])\n",
    "            if not os.path.exists(emotion_path):\n",
    "                os.makedirs(emotion_path, 0o775)\n",
    "            dest_file_path = os.path.join(emotion_path, base_name)\n",
    "            shutil.copy(row[\"Path\"], dest_file_path)\n",
    "    except e:\n",
    "        print(e)"
   ]
  },
  {
   "cell_type": "code",
   "execution_count": 9,
   "metadata": {},
   "outputs": [
    {
     "name": "stderr",
     "output_type": "stream",
     "text": [
      "15855it [00:42, 375.09it/s]\n"
     ]
    }
   ],
   "source": [
    "copyFiles(\"train\", tdf)"
   ]
  },
  {
   "cell_type": "markdown",
   "metadata": {},
   "source": [
    "### Test"
   ]
  },
  {
   "cell_type": "code",
   "execution_count": 10,
   "metadata": {},
   "outputs": [
    {
     "data": {
      "text/html": [
       "<div>\n",
       "<style scoped>\n",
       "    .dataframe tbody tr th:only-of-type {\n",
       "        vertical-align: middle;\n",
       "    }\n",
       "\n",
       "    .dataframe tbody tr th {\n",
       "        vertical-align: top;\n",
       "    }\n",
       "\n",
       "    .dataframe thead th {\n",
       "        text-align: right;\n",
       "    }\n",
       "</style>\n",
       "<table border=\"1\" class=\"dataframe\">\n",
       "  <thead>\n",
       "    <tr style=\"text-align: right;\">\n",
       "      <th></th>\n",
       "      <th>No</th>\n",
       "      <th>Path</th>\n",
       "      <th>Emotion</th>\n",
       "    </tr>\n",
       "  </thead>\n",
       "  <tbody>\n",
       "    <tr>\n",
       "      <th>0</th>\n",
       "      <td>0</td>\n",
       "      <td>/Users/garage/Cohort/Data/fer2013-skimmed/test...</td>\n",
       "      <td>happy</td>\n",
       "    </tr>\n",
       "    <tr>\n",
       "      <th>1</th>\n",
       "      <td>1</td>\n",
       "      <td>/Users/garage/Cohort/Data/fer2013-skimmed/test...</td>\n",
       "      <td>angry</td>\n",
       "    </tr>\n",
       "    <tr>\n",
       "      <th>2</th>\n",
       "      <td>2</td>\n",
       "      <td>/Users/garage/Cohort/Data/fer2013-skimmed/test...</td>\n",
       "      <td>perplex</td>\n",
       "    </tr>\n",
       "    <tr>\n",
       "      <th>3</th>\n",
       "      <td>3</td>\n",
       "      <td>/Users/garage/Cohort/Data/fer2013-skimmed/test...</td>\n",
       "      <td>sad</td>\n",
       "    </tr>\n",
       "    <tr>\n",
       "      <th>4</th>\n",
       "      <td>4</td>\n",
       "      <td>/Users/garage/Cohort/Data/fer2013-skimmed/test...</td>\n",
       "      <td>happy</td>\n",
       "    </tr>\n",
       "  </tbody>\n",
       "</table>\n",
       "</div>"
      ],
      "text/plain": [
       "   No                                               Path  Emotion\n",
       "0   0  /Users/garage/Cohort/Data/fer2013-skimmed/test...    happy\n",
       "1   1  /Users/garage/Cohort/Data/fer2013-skimmed/test...    angry\n",
       "2   2  /Users/garage/Cohort/Data/fer2013-skimmed/test...  perplex\n",
       "3   3  /Users/garage/Cohort/Data/fer2013-skimmed/test...      sad\n",
       "4   4  /Users/garage/Cohort/Data/fer2013-skimmed/test...    happy"
      ]
     },
     "execution_count": 10,
     "metadata": {},
     "output_type": "execute_result"
    }
   ],
   "source": [
    "csv_path = os.path.join(MODELS_DIR, \"v.csv\")\n",
    "vdf = pd.read_csv(csv_path)\n",
    "vdf.columns = [\"No\", \"Path\", \"Emotion\"]\n",
    "vdf.head()"
   ]
  },
  {
   "cell_type": "code",
   "execution_count": 11,
   "metadata": {},
   "outputs": [
    {
     "data": {
      "text/plain": [
       "Emotion\n",
       "angry      815\n",
       "happy      816\n",
       "neutral    816\n",
       "perplex    816\n",
       "sad        816\n",
       "dtype: int64"
      ]
     },
     "execution_count": 11,
     "metadata": {},
     "output_type": "execute_result"
    }
   ],
   "source": [
    "vdf.groupby(\"Emotion\").size()"
   ]
  },
  {
   "cell_type": "code",
   "execution_count": 12,
   "metadata": {},
   "outputs": [
    {
     "name": "stderr",
     "output_type": "stream",
     "text": [
      "4079it [00:10, 389.54it/s]\n"
     ]
    }
   ],
   "source": [
    "copyFiles(\"test\", vdf)"
   ]
  },
  {
   "cell_type": "markdown",
   "metadata": {},
   "source": [
    "### Validation"
   ]
  },
  {
   "cell_type": "code",
   "execution_count": 13,
   "metadata": {},
   "outputs": [
    {
     "name": "stdout",
     "output_type": "stream",
     "text": [
      "       perplex  happy   sad  neutral  angry\n",
      "train     3171   3171  3171     3171   3171\n",
      "      perplex  happy  sad  neutral  angry\n",
      "test      816    816  816      816    815\n"
     ]
    }
   ],
   "source": [
    "train_count = count_exp(os.path.join(DEST_PATH, \"train/\"), 'train')\n",
    "test_count = count_exp(os.path.join(DEST_PATH, \"test/\"), 'test')\n",
    "print(train_count)\n",
    "print(test_count)"
   ]
  },
  {
   "cell_type": "code",
   "execution_count": null,
   "metadata": {},
   "outputs": [],
   "source": []
  }
 ],
 "metadata": {
  "kernelspec": {
   "display_name": "Python 3",
   "language": "python",
   "name": "python3"
  },
  "language_info": {
   "codemirror_mode": {
    "name": "ipython",
    "version": 3
   },
   "file_extension": ".py",
   "mimetype": "text/x-python",
   "name": "python",
   "nbconvert_exporter": "python",
   "pygments_lexer": "ipython3",
   "version": "3.8.5"
  }
 },
 "nbformat": 4,
 "nbformat_minor": 4
}
